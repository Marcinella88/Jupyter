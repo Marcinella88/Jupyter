{
 "cells": [
  {
   "cell_type": "markdown",
   "id": "c47be987",
   "metadata": {},
   "source": [
    "# Funkcję tworzymy używając słowa def:"
   ]
  },
  {
   "cell_type": "code",
   "execution_count": 2,
   "id": "05295eed",
   "metadata": {
    "scrolled": true
   },
   "outputs": [],
   "source": [
    "def sume_two_number(x,y):\n",
    "    return x+y"
   ]
  },
  {
   "cell_type": "markdown",
   "id": "7e338191",
   "metadata": {},
   "source": [
    "# Używamy nawiasów okrągłych, aby podać argumenty:"
   ]
  },
  {
   "cell_type": "code",
   "execution_count": 3,
   "id": "83c1d8f7",
   "metadata": {},
   "outputs": [
    {
     "data": {
      "text/plain": [
       "15"
      ]
     },
     "execution_count": 3,
     "metadata": {},
     "output_type": "execute_result"
    }
   ],
   "source": [
    "sume_two_number(10,5)"
   ]
  },
  {
   "cell_type": "code",
   "execution_count": null,
   "id": "b713f22e",
   "metadata": {},
   "outputs": [],
   "source": []
  }
 ],
 "metadata": {
  "kernelspec": {
   "display_name": "Python 3 (ipykernel)",
   "language": "python",
   "name": "python3"
  },
  "language_info": {
   "codemirror_mode": {
    "name": "ipython",
    "version": 3
   },
   "file_extension": ".py",
   "mimetype": "text/x-python",
   "name": "python",
   "nbconvert_exporter": "python",
   "pygments_lexer": "ipython3",
   "version": "3.9.13"
  }
 },
 "nbformat": 4,
 "nbformat_minor": 5
}
