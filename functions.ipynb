{
 "cells": [
  {
   "cell_type": "markdown",
   "id": "a89e993f",
   "metadata": {},
   "source": [
    "# Funkcję tworzymy używając słowa def:"
   ]
  },
  {
   "cell_type": "code",
   "execution_count": 2,
   "id": "f1e01663",
   "metadata": {
    "scrolled": true
   },
   "outputs": [],
   "source": [
    "def sume_two_number(x,y):\n",
    "    return x+y"
   ]
  },
  {
   "cell_type": "markdown",
   "id": "354cccc5",
   "metadata": {},
   "source": [
    "# Używamy nawiasów okrągłych, aby podać argumenty:"
   ]
  },
  {
   "cell_type": "code",
   "execution_count": 4,
   "id": "b49c309d",
   "metadata": {},
   "outputs": [
    {
     "data": {
      "text/plain": [
       "12"
      ]
     },
     "execution_count": 4,
     "metadata": {},
     "output_type": "execute_result"
    }
   ],
   "source": [
    "sume_two_number(10,2)"
   ]
  },
  {
   "cell_type": "code",
   "execution_count": null,
   "id": "ce0e9ed5",
   "metadata": {},
   "outputs": [],
   "source": []
  }
 ],
 "metadata": {
  "kernelspec": {
   "display_name": "base",
   "language": "python",
   "name": "python3"
  },
  "language_info": {
   "codemirror_mode": {
    "name": "ipython",
    "version": 3
   },
   "file_extension": ".py",
   "mimetype": "text/x-python",
   "name": "python",
   "nbconvert_exporter": "python",
   "pygments_lexer": "ipython3",
   "version": "3.12.7"
  }
 },
 "nbformat": 4,
 "nbformat_minor": 5
}
